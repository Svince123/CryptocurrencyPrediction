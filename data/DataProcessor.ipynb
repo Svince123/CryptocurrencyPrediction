{
 "cells": [
  {
   "cell_type": "code",
   "execution_count": 1,
   "metadata": {
    "collapsed": true,
    "pycharm": {
     "is_executing": false
    }
   },
   "outputs": [],
   "source": [
    "import pandas as pd\n",
    "import numpy as np\n",
    "import h5py"
   ]
  },
  {
   "cell_type": "code",
   "execution_count": 2,
   "metadata": {
    "collapsed": true,
    "pycharm": {
     "is_executing": false
    }
   },
   "outputs": [],
   "source": [
    "input_step_size = 50\n",
    "output_size = 30\n",
    "sliding_window = False\n",
    "file_name= 'bitcoin2012_2017_50_30_prediction.h5' "
   ]
  },
  {
   "cell_type": "code",
   "execution_count": 6,
   "metadata": {
    "pycharm": {
     "is_executing": false
    },
    "scrolled": true
   },
   "outputs": [
    {
     "data": {
      "text/html": [
       "<div>\n",
       "<style scoped>\n",
       "    .dataframe tbody tr th:only-of-type {\n",
       "        vertical-align: middle;\n",
       "    }\n",
       "\n",
       "    .dataframe tbody tr th {\n",
       "        vertical-align: top;\n",
       "    }\n",
       "\n",
       "    .dataframe thead th {\n",
       "        text-align: right;\n",
       "    }\n",
       "</style>\n",
       "<table border=\"1\" class=\"dataframe\">\n",
       "  <thead>\n",
       "    <tr style=\"text-align: right;\">\n",
       "      <th></th>\n",
       "      <th>Timestamp</th>\n",
       "      <th>Open</th>\n",
       "      <th>High</th>\n",
       "      <th>Low</th>\n",
       "      <th>Close</th>\n",
       "      <th>Volume_(BTC)</th>\n",
       "      <th>Volume_(Currency)</th>\n",
       "      <th>Weighted_Price</th>\n",
       "      <th>Datetime</th>\n",
       "    </tr>\n",
       "  </thead>\n",
       "  <tbody>\n",
       "    <tr>\n",
       "      <th>2727434</th>\n",
       "      <td>1489352280</td>\n",
       "      <td>1216.50</td>\n",
       "      <td>1216.50</td>\n",
       "      <td>1216.50</td>\n",
       "      <td>1216.50</td>\n",
       "      <td>0.646000</td>\n",
       "      <td>785.859000</td>\n",
       "      <td>1216.500000</td>\n",
       "      <td>2017-03-12 20:58:00</td>\n",
       "    </tr>\n",
       "    <tr>\n",
       "      <th>2727435</th>\n",
       "      <td>1489352340</td>\n",
       "      <td>1218.22</td>\n",
       "      <td>1218.22</td>\n",
       "      <td>1217.06</td>\n",
       "      <td>1217.31</td>\n",
       "      <td>1.792564</td>\n",
       "      <td>2183.003443</td>\n",
       "      <td>1217.810785</td>\n",
       "      <td>2017-03-12 20:59:00</td>\n",
       "    </tr>\n",
       "    <tr>\n",
       "      <th>2727436</th>\n",
       "      <td>1489352400</td>\n",
       "      <td>1218.21</td>\n",
       "      <td>1218.23</td>\n",
       "      <td>1218.21</td>\n",
       "      <td>1218.23</td>\n",
       "      <td>5.375733</td>\n",
       "      <td>6548.815278</td>\n",
       "      <td>1218.218073</td>\n",
       "      <td>2017-03-12 21:00:00</td>\n",
       "    </tr>\n",
       "    <tr>\n",
       "      <th>2727437</th>\n",
       "      <td>1489352460</td>\n",
       "      <td>1218.91</td>\n",
       "      <td>1218.92</td>\n",
       "      <td>1218.91</td>\n",
       "      <td>1218.92</td>\n",
       "      <td>0.691000</td>\n",
       "      <td>842.272940</td>\n",
       "      <td>1218.918871</td>\n",
       "      <td>2017-03-12 21:01:00</td>\n",
       "    </tr>\n",
       "    <tr>\n",
       "      <th>2727438</th>\n",
       "      <td>1489352520</td>\n",
       "      <td>1220.64</td>\n",
       "      <td>1221.32</td>\n",
       "      <td>1220.01</td>\n",
       "      <td>1220.05</td>\n",
       "      <td>9.240874</td>\n",
       "      <td>11279.223003</td>\n",
       "      <td>1220.579651</td>\n",
       "      <td>2017-03-12 21:02:00</td>\n",
       "    </tr>\n",
       "  </tbody>\n",
       "</table>\n",
       "</div>"
      ],
      "text/plain": [
       "          Timestamp     Open     High      Low    Close  Volume_(BTC)  \\\n",
       "2727434  1489352280  1216.50  1216.50  1216.50  1216.50      0.646000   \n",
       "2727435  1489352340  1218.22  1218.22  1217.06  1217.31      1.792564   \n",
       "2727436  1489352400  1218.21  1218.23  1218.21  1218.23      5.375733   \n",
       "2727437  1489352460  1218.91  1218.92  1218.91  1218.92      0.691000   \n",
       "2727438  1489352520  1220.64  1221.32  1220.01  1220.05      9.240874   \n",
       "\n",
       "         Volume_(Currency)  Weighted_Price            Datetime  \n",
       "2727434         785.859000     1216.500000 2017-03-12 20:58:00  \n",
       "2727435        2183.003443     1217.810785 2017-03-12 20:59:00  \n",
       "2727436        6548.815278     1218.218073 2017-03-12 21:00:00  \n",
       "2727437         842.272940     1218.918871 2017-03-12 21:01:00  \n",
       "2727438       11279.223003     1220.579651 2017-03-12 21:02:00  "
      ]
     },
     "execution_count": 6,
     "metadata": {},
     "output_type": "execute_result"
    }
   ],
   "source": [
    "df = pd.read_csv('../data/bitstampUSD_1-min_data_2012-01-01_to_2019-03-13.csv').dropna().tail(1000000)\n",
    "df['Datetime'] = pd.to_datetime(df['Timestamp'],unit='s')\n",
    "df.head()"
   ]
  },
  {
   "cell_type": "code",
   "execution_count": 7,
   "metadata": {
    "pycharm": {
     "is_executing": false
    }
   },
   "outputs": [
    {
     "data": {
      "text/plain": [
       "(1000000,)"
      ]
     },
     "execution_count": 7,
     "metadata": {},
     "output_type": "execute_result"
    }
   ],
   "source": [
    "prices= df.loc[:,'Close'].values\n",
    "times = df.loc[:,'Datetime'].values\n",
    "prices.shape"
   ]
  },
  {
   "cell_type": "code",
   "execution_count": 8,
   "metadata": {
    "collapsed": true,
    "pycharm": {
     "is_executing": false
    }
   },
   "outputs": [],
   "source": [
    "outputs = []\n",
    "inputs = []\n",
    "output_times = []\n",
    "input_times = []\n",
    "if sliding_window:\n",
    "    for i in range(len(prices)-input_step_size-output_size):\n",
    "        inputs.append(prices[i:i + input_step_size])\n",
    "        input_times.append(times[i:i + input_step_size])\n",
    "        outputs.append(prices[i + input_step_size: i + input_step_size+ output_size])\n",
    "        output_times.append(times[i + input_step_size: i + input_step_size+ output_size])\n",
    "else:\n",
    "    for i in range(0,len(prices)-input_step_size-output_size, input_step_size):\n",
    "        inputs.append(prices[i:i + input_step_size])\n",
    "        input_times.append(times[i:i + input_step_size])\n",
    "        outputs.append(prices[i + input_step_size: i + input_step_size+ output_size])\n",
    "        output_times.append(times[i + input_step_size: i + input_step_size+ output_size])\n",
    "inputs= np.array(inputs)\n",
    "outputs= np.array(outputs)\n",
    "output_times = np.array(output_times)\n",
    "input_times = np.array(input_times)"
   ]
  },
  {
   "cell_type": "code",
   "execution_count": 22,
   "metadata": {
    "collapsed": true
   },
   "outputs": [],
   "source": [
    "with h5py.File(file_name, 'w') as f:\n",
    "    f.create_dataset(\"inputs\", data = inputs)\n",
    "    f.create_dataset('outputs', data = outputs)\n",
    "#     f.create_dataset(\"input_times\", data = input_times)\n",
    "#     f.create_dataset('output_times', data = output_times)"
   ]
  },
  {
   "cell_type": "code",
   "execution_count": 19,
   "metadata": {
    "collapsed": true
   },
   "outputs": [],
   "source": [
    "np.save(file_name[:-3] + 'input_times',input_times)\n",
    "np.save(file_name[:-3] + 'output_times',output_times)"
   ]
  },
  {
   "cell_type": "code",
   "execution_count": 20,
   "metadata": {
    "pycharm": {
     "name": "#%%\n"
    }
   },
   "outputs": [
    {
     "data": {
      "text/plain": [
       "array(['2014-10-08T10:14:00.000000000', '2014-10-08T10:15:00.000000000',\n",
       "       '2014-10-08T10:16:00.000000000', ...,\n",
       "       '2017-05-30T23:58:00.000000000', '2017-05-30T23:59:00.000000000',\n",
       "       '2017-05-31T00:00:00.000000000'], dtype='datetime64[ns]')"
      ]
     },
     "execution_count": 20,
     "metadata": {},
     "output_type": "execute_result"
    }
   ],
   "source": [
    "times\n"
   ]
  }
 ],
 "metadata": {
  "kernelspec": {
   "display_name": "Python 3",
   "language": "python",
   "name": "python3"
  },
  "language_info": {
   "codemirror_mode": {
    "name": "ipython",
    "version": 3
   },
   "file_extension": ".py",
   "mimetype": "text/x-python",
   "name": "python",
   "nbconvert_exporter": "python",
   "pygments_lexer": "ipython3",
   "version": "3.7.3"
  },
  "pycharm": {
   "stem_cell": {
    "cell_type": "raw",
    "metadata": {
     "collapsed": false
    },
    "source": [
     "#!/usr/local/bin/python3.7"
    ]
   }
  }
 },
 "nbformat": 4,
 "nbformat_minor": 2
}
